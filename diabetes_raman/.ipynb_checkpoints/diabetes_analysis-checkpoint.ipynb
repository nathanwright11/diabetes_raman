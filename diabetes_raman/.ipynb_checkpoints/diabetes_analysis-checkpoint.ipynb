{
 "cells": [
  {
   "cell_type": "code",
   "execution_count": 1,
   "metadata": {},
   "outputs": [],
   "source": [
    "import numpy as np\n",
    "import pandas as pd\n",
    "import matplotlib.pyplot as plt\n",
    "%matplotlib inline\n",
    "import tensorflow as tf\n",
    "from sklearn.preprocessing import StandardScaler\n",
    "from sklearn.model_selection import train_test_split\n",
    "from sklearn.pipeline import Pipeline\n",
    "from sklearn.decomposition import PCA\n",
    "from sklearn.metrics import confusion_matrix, ConfusionMatrixDisplay"
   ]
  },
  {
   "cell_type": "code",
   "execution_count": 2,
   "metadata": {},
   "outputs": [],
   "source": [
    "# Loads data into dataframe\n",
    "df_ear = pd.read_csv('earLobe.csv')\n",
    "# First row is ignored (raman shift info)\n",
    "df_ear = df_ear[1:len(df_ear)]\n",
    "\n",
    "df_arm = pd.read_csv('innerArm.csv')\n",
    "df_arm = df_arm[1:len(df_arm)]\n",
    "\n",
    "df_nail = pd.read_csv('thumbNail.csv')\n",
    "df_nail = df_nail[1:len(df_nail)]\n",
    "\n",
    "df_vein = pd.read_csv('vein.csv')\n",
    "df_vein = df_vein[1:len(df_vein)]"
   ]
  },
  {
   "cell_type": "code",
   "execution_count": 3,
   "metadata": {},
   "outputs": [],
   "source": [
    "#Splits data into training and test sets\n",
    "ear_feat = df_ear.drop(columns='has_DM2')\n",
    "ear_labels = df_ear['has_DM2']\n",
    "\n",
    "#Splits data into 60/40 train/test split. Output labels are used such that all four datasets\n",
    "#(ear,arm,thumnail,vein) have the same patients. This way they can all be combined and the NN\n",
    "#can predict based on features for all measurement locations\n",
    "eX_train, eX_test, y_train, y_test = train_test_split(ear_feat, ear_labels, \n",
    "                                                      stratify=ear_labels, test_size=0.4)\n",
    "\n",
    "arm_feat = df_arm.drop(columns='has_DM2')\n",
    "#Divides train/test by patientID to match ear dataset\n",
    "aX_train = arm_feat.loc[eX_train.index.values]\n",
    "aX_test = arm_feat.loc[eX_test.index.values]\n",
    "\n",
    "nail_feat = df_nail.drop(columns='has_DM2')\n",
    "#Divides train/test by patientID to match ear dataset\n",
    "nX_train = nail_feat.loc[eX_train.index.values]\n",
    "nX_test = nail_feat.loc[eX_test.index.values]\n",
    "\n",
    "vein_feat = df_vein.drop(columns='has_DM2')\n",
    "#Divides train/test by patientID to match ear dataset\n",
    "vX_train = vein_feat.loc[eX_train.index.values]\n",
    "vX_test = vein_feat.loc[eX_test.index.values]"
   ]
  },
  {
   "cell_type": "code",
   "execution_count": 4,
   "metadata": {},
   "outputs": [],
   "source": [
    "#Removes patientID column before processing\n",
    "eX_train = eX_train.drop(columns='patientID')\n",
    "eX_test = eX_test.drop(columns='patientID')\n",
    "\n",
    "aX_train = aX_train.drop(columns='patientID')\n",
    "aX_test = aX_test.drop(columns='patientID')\n",
    "\n",
    "nX_train = nX_train.drop(columns='patientID')\n",
    "nX_test = nX_test.drop(columns='patientID')\n",
    "\n",
    "vX_train = vX_train.drop(columns='patientID')\n",
    "vX_test = vX_test.drop(columns='patientID')"
   ]
  },
  {
   "cell_type": "markdown",
   "metadata": {},
   "source": [
    "### Pipeline"
   ]
  },
  {
   "cell_type": "code",
   "execution_count": 5,
   "metadata": {},
   "outputs": [],
   "source": [
    "#Training and test data for all sensor locations are scaled then dimensions are reduced with PCA\n",
    "pipe = Pipeline([\n",
    "    ('scaler', StandardScaler()),\n",
    "    #n_components=4 was found below to be ideal for every dataset\n",
    "    ('pca', PCA(n_components=4))\n",
    "])\n",
    "eX_train = pipe.fit_transform(eX_train)\n",
    "eX_test = pipe.fit_transform(eX_test)\n",
    "\n",
    "aX_train = pipe.fit_transform(aX_train)\n",
    "aX_test = pipe.fit_transform(aX_test)\n",
    "\n",
    "nX_train = pipe.fit_transform(nX_train)\n",
    "nX_test = pipe.fit_transform(nX_test)\n",
    "\n",
    "vX_train = pipe.fit_transform(vX_train)\n",
    "vX_test = pipe.fit_transform(vX_test)\n",
    "\n",
    "#Combines all the different sensor locations into one array\n",
    "comb_train = np.concatenate((eX_train,aX_train,nX_train,vX_train), axis=1)\n",
    "comb_test = np.concatenate((eX_test,aX_test,nX_test,vX_test), axis=1)"
   ]
  },
  {
   "cell_type": "markdown",
   "metadata": {},
   "source": [
    "### Finding ideal number of PCA components for each dataset"
   ]
  },
  {
   "cell_type": "code",
   "execution_count": 6,
   "metadata": {},
   "outputs": [],
   "source": [
    "# e_ratios = []\n",
    "# a_ratios = []\n",
    "# n_ratios = []\n",
    "# v_ratios = []\n",
    "# for n in range(0,13):\n",
    "#     pca = PCA(n_components=n)\n",
    "#     pca.fit_transform(eX_train)\n",
    "#     var_r = np.sum(pca.explained_variance_ratio_)\n",
    "#     e_ratios.append(var_r)\n",
    "# for n in range(0,13):\n",
    "#     pca = PCA(n_components=n)\n",
    "#     pca.fit_transform(aX_train)\n",
    "#     var_r = np.sum(pca.explained_variance_ratio_)\n",
    "#     a_ratios.append(var_r)\n",
    "# for n in range(0,13):\n",
    "#     pca = PCA(n_components=n)\n",
    "#     pca.fit_transform(nX_train)\n",
    "#     var_r = np.sum(pca.explained_variance_ratio_)\n",
    "#     n_ratios.append(var_r)\n",
    "# for n in range(0,13):\n",
    "#     pca = PCA(n_components=n)\n",
    "#     pca.fit_transform(vX_train)\n",
    "#     var_r = np.sum(pca.explained_variance_ratio_)\n",
    "#     v_ratios.append(var_r)"
   ]
  },
  {
   "cell_type": "code",
   "execution_count": 7,
   "metadata": {},
   "outputs": [],
   "source": [
    "# plt.plot(range(0,13), e_ratios)\n",
    "# #Line shows where number of components will explain 95% of the variance of the data\n",
    "# plt.axhline(y=0.95, color='k', linestyle='--')\n",
    "# plt.title('Ear Dataset')\n",
    "# plt.xlabel('n_components')\n",
    "# plt.ylabel('Explained variance ratio')\n",
    "# plt.show()\n",
    "\n",
    "# plt.plot(range(0,13), a_ratios)\n",
    "# #Line shows where number of components will explain 95% of the variance of the data\n",
    "# plt.axhline(y=0.95, color='k', linestyle='--')\n",
    "# plt.title('Arm Dataset')\n",
    "# plt.xlabel('n_components')\n",
    "# plt.ylabel('Explained variance ratio')\n",
    "# plt.show()\n",
    "\n",
    "# plt.plot(range(0,13), n_ratios)\n",
    "# #Line shows where number of components will explain 95% of the variance of the data\n",
    "# plt.axhline(y=0.95, color='k', linestyle='--')\n",
    "# plt.title('Nail Dataset')\n",
    "# plt.xlabel('n_components')\n",
    "# plt.ylabel('Explained variance ratio')\n",
    "# plt.show()\n",
    "\n",
    "# plt.plot(range(0,13), v_ratios)\n",
    "# #Line shows where number of components will explain 95% of the variance of the data\n",
    "# plt.axhline(y=0.95, color='k', linestyle='--')\n",
    "# plt.title('Vein Dataset')\n",
    "# plt.xlabel('n_components')\n",
    "# plt.ylabel('Explained variance ratio')\n",
    "# plt.show()"
   ]
  },
  {
   "cell_type": "markdown",
   "metadata": {},
   "source": [
    "## Neural Network"
   ]
  },
  {
   "cell_type": "code",
   "execution_count": 8,
   "metadata": {},
   "outputs": [],
   "source": [
    "inputs = tf.keras.Input(shape=(16,), name='features')\n",
    "hidden_1 = tf.keras.layers.Dense(12, activation='relu')(inputs)\n",
    "hidden_2 = tf.keras.layers.Dense(12, activation='relu')(hidden_1)\n",
    "output = tf.keras.layers.Dense(1, activation='sigmoid', name='output')(hidden_2)\n",
    "\n",
    "model = tf.keras.Model(inputs=inputs, outputs=output)"
   ]
  },
  {
   "cell_type": "code",
   "execution_count": 9,
   "metadata": {},
   "outputs": [
    {
     "name": "stdout",
     "output_type": "stream",
     "text": [
      "Epoch 1/15\n",
      "WARNING:tensorflow:AutoGraph could not transform <function Model.make_train_function.<locals>.train_function at 0x0000026FBC6D4E58> and will run it as-is.\n",
      "Please report this to the TensorFlow team. When filing the bug, set the verbosity to 10 (on Linux, `export AUTOGRAPH_VERBOSITY=10`) and attach the full output.\n",
      "Cause: 'arguments' object has no attribute 'posonlyargs'\n",
      "To silence this warning, decorate the function with @tf.autograph.experimental.do_not_convert\n",
      "WARNING: AutoGraph could not transform <function Model.make_train_function.<locals>.train_function at 0x0000026FBC6D4E58> and will run it as-is.\n",
      "Please report this to the TensorFlow team. When filing the bug, set the verbosity to 10 (on Linux, `export AUTOGRAPH_VERBOSITY=10`) and attach the full output.\n",
      "Cause: 'arguments' object has no attribute 'posonlyargs'\n",
      "To silence this warning, decorate the function with @tf.autograph.experimental.do_not_convert\n",
      "1/9 [==>...........................] - ETA: 0s - loss: 9.5777 - accuracy: 0.0000e+00 - precision: 0.0000e+00 - recall: 0.0000e+00WARNING:tensorflow:AutoGraph could not transform <function Model.make_test_function.<locals>.test_function at 0x0000026FBC8F8168> and will run it as-is.\n",
      "Please report this to the TensorFlow team. When filing the bug, set the verbosity to 10 (on Linux, `export AUTOGRAPH_VERBOSITY=10`) and attach the full output.\n",
      "Cause: 'arguments' object has no attribute 'posonlyargs'\n",
      "To silence this warning, decorate the function with @tf.autograph.experimental.do_not_convert\n",
      "WARNING: AutoGraph could not transform <function Model.make_test_function.<locals>.test_function at 0x0000026FBC8F8168> and will run it as-is.\n",
      "Please report this to the TensorFlow team. When filing the bug, set the verbosity to 10 (on Linux, `export AUTOGRAPH_VERBOSITY=10`) and attach the full output.\n",
      "Cause: 'arguments' object has no attribute 'posonlyargs'\n",
      "To silence this warning, decorate the function with @tf.autograph.experimental.do_not_convert\n",
      "9/9 [==============================] - 0s 47ms/step - loss: 11.9919 - accuracy: 0.3333 - precision: 0.4000 - recall: 0.4000 - val_loss: 0.9733 - val_accuracy: 0.0000e+00 - val_precision: 0.0000e+00 - val_recall: 0.0000e+00\n",
      "Epoch 2/15\n",
      "9/9 [==============================] - 0s 4ms/step - loss: 0.3745 - accuracy: 0.8889 - precision: 0.8333 - recall: 1.0000 - val_loss: 1.3376 - val_accuracy: 0.0000e+00 - val_precision: 0.0000e+00 - val_recall: 0.0000e+00\n",
      "Epoch 3/15\n",
      "9/9 [==============================] - 0s 4ms/step - loss: 0.0478 - accuracy: 1.0000 - precision: 1.0000 - recall: 1.0000 - val_loss: 1.3909 - val_accuracy: 0.3333 - val_precision: 0.0000e+00 - val_recall: 0.0000e+00\n",
      "Epoch 4/15\n",
      "9/9 [==============================] - 0s 4ms/step - loss: 0.0294 - accuracy: 1.0000 - precision: 1.0000 - recall: 1.0000 - val_loss: 1.4304 - val_accuracy: 0.3333 - val_precision: 0.0000e+00 - val_recall: 0.0000e+00\n",
      "Epoch 5/15\n",
      "9/9 [==============================] - 0s 4ms/step - loss: 0.0207 - accuracy: 1.0000 - precision: 1.0000 - recall: 1.0000 - val_loss: 1.4719 - val_accuracy: 0.3333 - val_precision: 0.0000e+00 - val_recall: 0.0000e+00\n",
      "Epoch 6/15\n",
      "9/9 [==============================] - 0s 4ms/step - loss: 0.0158 - accuracy: 1.0000 - precision: 1.0000 - recall: 1.0000 - val_loss: 1.5050 - val_accuracy: 0.3333 - val_precision: 0.0000e+00 - val_recall: 0.0000e+00\n",
      "Epoch 7/15\n",
      "9/9 [==============================] - 0s 4ms/step - loss: 0.0126 - accuracy: 1.0000 - precision: 1.0000 - recall: 1.0000 - val_loss: 1.5331 - val_accuracy: 0.3333 - val_precision: 0.0000e+00 - val_recall: 0.0000e+00\n",
      "Epoch 8/15\n",
      "9/9 [==============================] - 0s 4ms/step - loss: 0.0105 - accuracy: 1.0000 - precision: 1.0000 - recall: 1.0000 - val_loss: 1.5584 - val_accuracy: 0.3333 - val_precision: 0.0000e+00 - val_recall: 0.0000e+00\n",
      "Epoch 9/15\n",
      "9/9 [==============================] - 0s 4ms/step - loss: 0.0089 - accuracy: 1.0000 - precision: 1.0000 - recall: 1.0000 - val_loss: 1.5810 - val_accuracy: 0.3333 - val_precision: 0.0000e+00 - val_recall: 0.0000e+00\n",
      "Epoch 10/15\n",
      "9/9 [==============================] - 0s 4ms/step - loss: 0.0077 - accuracy: 1.0000 - precision: 1.0000 - recall: 1.0000 - val_loss: 1.6022 - val_accuracy: 0.3333 - val_precision: 0.0000e+00 - val_recall: 0.0000e+00\n",
      "Epoch 11/15\n",
      "9/9 [==============================] - 0s 4ms/step - loss: 0.0068 - accuracy: 1.0000 - precision: 1.0000 - recall: 1.0000 - val_loss: 1.6206 - val_accuracy: 0.3333 - val_precision: 0.0000e+00 - val_recall: 0.0000e+00\n",
      "Epoch 12/15\n",
      "9/9 [==============================] - 0s 4ms/step - loss: 0.0060 - accuracy: 1.0000 - precision: 1.0000 - recall: 1.0000 - val_loss: 1.6379 - val_accuracy: 0.3333 - val_precision: 0.0000e+00 - val_recall: 0.0000e+00\n",
      "Epoch 13/15\n",
      "9/9 [==============================] - 0s 4ms/step - loss: 0.0054 - accuracy: 1.0000 - precision: 1.0000 - recall: 1.0000 - val_loss: 1.6539 - val_accuracy: 0.3333 - val_precision: 0.0000e+00 - val_recall: 0.0000e+00\n",
      "Epoch 14/15\n",
      "9/9 [==============================] - 0s 4ms/step - loss: 0.0049 - accuracy: 1.0000 - precision: 1.0000 - recall: 1.0000 - val_loss: 1.6685 - val_accuracy: 0.3333 - val_precision: 0.0000e+00 - val_recall: 0.0000e+00\n",
      "Epoch 15/15\n",
      "9/9 [==============================] - 0s 4ms/step - loss: 0.0045 - accuracy: 1.0000 - precision: 1.0000 - recall: 1.0000 - val_loss: 1.6814 - val_accuracy: 0.3333 - val_precision: 0.0000e+00 - val_recall: 0.0000e+00\n"
     ]
    }
   ],
   "source": [
    "model.compile(optimizer=tf.keras.optimizers.SGD(nesterov=True),\n",
    "                  loss='binary_crossentropy', \n",
    "                  metrics=[['accuracy'], ['Precision'], ['Recall']])\n",
    "\n",
    "history = model.fit(comb_train, \n",
    "                    y_train, \n",
    "                    batch_size=1,\n",
    "                    validation_split=0.2, \n",
    "                    epochs=15, \n",
    "                    verbose=True)"
   ]
  },
  {
   "cell_type": "code",
   "execution_count": 10,
   "metadata": {},
   "outputs": [
    {
     "name": "stdout",
     "output_type": "stream",
     "text": [
      "8/8 [==============================] - 0s 2ms/step - loss: 2.5356 - accuracy: 0.8750 - precision: 0.8000 - recall: 1.0000    \n",
      "\n",
      "Accuracy on test data: 87.5%\n",
      "Precision on test data: 80.0%\n",
      "Recall on test data: 100.0%\n"
     ]
    }
   ],
   "source": [
    "loss, acc, pre, rec = model.evaluate(comb_test, \n",
    "                                     y_test,\n",
    "                                     batch_size=1)\n",
    "\n",
    "print(f'\\nAccuracy on test data: {acc*100:.1f}%')\n",
    "print(f'Precision on test data: {pre*100:.1f}%')\n",
    "print(f'Recall on test data: {rec*100:.1f}%')"
   ]
  },
  {
   "cell_type": "code",
   "execution_count": 12,
   "metadata": {},
   "outputs": [
    {
     "data": {
      "image/png": "[encoded data removed]",
      "text/plain": [
       "<Figure size 432x288 with 2 Axes>"
      ]
     },
     "metadata": {
      "needs_background": "light"
     },
     "output_type": "display_data"
    }
   ],
   "source": [
    "pred = model.predict(comb_test, batch_size=1)\n",
    "pred = np.round_(pred)\n",
    "\n",
    "cf = confusion_matrix(pred, y_test)\n",
    "disp = ConfusionMatrixDisplay(cf, display_labels=['healthy', 'diabetic'])\n",
    "disp.plot()\n",
    "plt.title('NN Prediction on Test Set')\n",
    "#plt.savefig('NNconfusionMatrix.png')\n",
    "plt.show()"
   ]
  },
  {
   "cell_type": "code",
   "execution_count": null,
   "metadata": {},
   "outputs": [],
   "source": []
  }
 ],
 "metadata": {
  "interpreter": {
   "hash": "2db524e06e9f5f4ffedc911c917cb75e12dbc923643829bf417064a77eb14d37"
  },
  "kernelspec": {
   "display_name": "Python 3.8.3 64-bit",
   "name": "python3"
  },
  "language_info": {
   "name": "python",
   "version": ""
  }
 },
 "nbformat": 4,
 "nbformat_minor": 5
}